{
 "cells": [
  {
   "cell_type": "code",
   "execution_count": 1,
   "id": "12c32df6",
   "metadata": {},
   "outputs": [
    {
     "name": "stdout",
     "output_type": "stream",
     "text": [
      "Generating data for CUT circuit: ghz, ID:4\n",
      "Generating data for CUT circuit: phase, ID:3\n",
      "Generating data for CUT circuit: addition, ID:1\n",
      "Generating data for CUT circuit: simon, ID:5\n",
      "Generating data for CUT circuit: qft, ID:6\n",
      "Generating data for CUT circuit: similarity, ID:7\n"
     ]
    }
   ],
   "source": [
    "import os\n",
    "os.environ[\"CUDA_DEVICE_ORDER\"]=\"PCI_BUS_ID\";\n",
    "os.environ[\"CUDA_VISIBLE_DEVICES\"]=\"0\"; \n",
    "import urllib.request\n",
    "import pandas as pd\n",
    "import numpy as np\n",
    "import time\n",
    "from sklearn.model_selection import train_test_split\n",
    "from tqdm import *\n",
    "pd.set_option('display.max_columns', None)\n",
    "\n",
    "from benchmark_circuits import *\n",
    "import random\n",
    "import pkgutil\n",
    "import warnings\n",
    "import exrex\n",
    "import math\n",
    "import json\n",
    "import scipy.stats as stats\n",
    "from sklearn.metrics import mean_absolute_error\n",
    "from collections import defaultdict\n",
    "warnings.filterwarnings('ignore')\n",
    "\n",
    "\n",
    "def getIntegers(startRange,upperlimit):\n",
    "    return [x for x in range(startRange,startRange+upperlimit)]\n",
    "\n",
    "def getallBinaryValues(number_bits):\n",
    "    max_number = np.power(2,number_bits)-1\n",
    "    data = []\n",
    "    for x in range(0,max_number):\n",
    "        value = bin(x).replace(\"0b\",\"\")\n",
    "        value = \"0\"*(number_bits-len(value))+value\n",
    "        data.append(value)\n",
    "    return data\n",
    "\n",
    "def getexpression(regex,upperlimit):\n",
    "    return [exrex.getone(regex) for x in range(upperlimit)]\n",
    "\n",
    "\n",
    "def generate_data(Format,startRange,endRange,percentage,regex,circuit):\n",
    "    data = []\n",
    "    if Format==\"int\":\n",
    "        upperlimit = int(np.ceil((endRange-startRange)*percentage))\n",
    "        data = getIntegers(startRange,upperlimit)\n",
    "    if Format==\"binary\":\n",
    "        upperlimit = int(np.ceil((endRange-startRange)*percentage))\n",
    "        data = getallBinaryValues(startRange+upperlimit)\n",
    "    if Format==\"expression\":\n",
    "        upperlimit = int(np.ceil((math.factorial(startRange))*percentage))\n",
    "        data = getexpression(regex,upperlimit)\n",
    "    return data,circuit\n",
    "\n",
    "def read_configuration(filepath):\n",
    "    with open(filepath,\"r\") as file:\n",
    "        content = file.read()\n",
    "    rules = content.split(\"-\"*20)\n",
    "    rules_dict = {}\n",
    "    for rule in rules:\n",
    "        try:\n",
    "            parameters = rule.split(\"\\n\")\n",
    "            parameter_dict = {}\n",
    "            for parameter in parameters:\n",
    "                if parameter!=\"\":\n",
    "                    key,value = parameter.split(\":\")\n",
    "                    value = value.strip()\n",
    "                    if value.isdigit():\n",
    "                        value = int(value)\n",
    "                    else:\n",
    "                        try:\n",
    "                            value = float(value)\n",
    "                        except:\n",
    "                            pass\n",
    "                    parameter_dict[key] = value\n",
    "            rules_dict[parameter_dict.pop(\"ID\")] = parameter_dict\n",
    "        except:\n",
    "            continue\n",
    "    return rules_dict\n",
    "\n",
    "\n",
    "# # Select CUTs\n",
    "\n",
    "# In[2]:\n",
    "\n",
    "\n",
    "backends = [('FakeAlmaden', 20), ('FakeBoeblingen', 20), ('FakeBrooklyn', 65), ('FakeCairo', 27), ('FakeCambridge', 28), ('FakeCambridgeAlternativeBasis', 28), ('FakeCasablanca', 7), ('FakeGuadalupe', 16), ('FakeHanoi', 27), ('FakeJakarta', 7), ('FakeJohannesburg', 20), ('FakeKolkata', 27), ('FakeLagos', 7), ('FakeManhattan', 65), ('FakeMontreal', 27), ('FakeMumbai', 27), ('FakeNairobi', 7), ('FakeParis', 27), ('FakeRochester', 53), ('FakeSingapore', 20), ('FakeSydney', 27), ('FakeToronto', 27), ('FakeWashington', 127)]\n",
    "BaselineCircuits,CUTs = train_test_split(get_all_circuits(),train_size=0.4,random_state=13)\n",
    "\n",
    "\n",
    "# # Get Evaluation data for CUTs\n",
    "\n",
    "# In[3]:\n",
    "\n",
    "\n",
    "rules = read_configuration(\"Configuration.txt\")\n",
    "data_circuit_pairs = []\n",
    "for baseline_circuit in CUTs:\n",
    "    circuit = get_circuit_class_object(baseline_circuit)\n",
    "    print(\"Generating data for CUT circuit: {}, ID:{}\".format(baseline_circuit,circuit.key_aurguments[\"ID\"]))\n",
    "    rule = rules[circuit.key_aurguments[\"ID\"]]\n",
    "    data,circuit = generate_data(Format=rule[\"FORMAT\"],startRange=rule[\"START\"],\n",
    "                                 endRange=rule[\"END\"],percentage=rule[\"PERCENTAGE\"],\n",
    "                                 regex=rule[\"REGEX\"],circuit=circuit)\n",
    "    data_circuit_pairs.append((data,circuit,baseline_circuit))"
   ]
  },
  {
   "cell_type": "code",
   "execution_count": 2,
   "id": "1303f858",
   "metadata": {},
   "outputs": [],
   "source": [
    "def convertNaQp2QuCAT_notation(output,value=\"prob\"):\n",
    "    program_specification = {}\n",
    "    for x in output[\"probability\"]:\n",
    "        program_specification[x[\"bin\"]] = x[value]\n",
    "    return program_specification"
   ]
  },
  {
   "cell_type": "code",
   "execution_count": 3,
   "id": "37c9d2a9",
   "metadata": {},
   "outputs": [
    {
     "name": "stderr",
     "output_type": "stream",
     "text": [
      "100%|█████████████████████████████████████████████████████████████████████████████████| 23/23 [00:00<00:00, 763.49it/s]\n",
      "  0%|                                                                                           | 0/23 [00:00<?, ?it/s]"
     ]
    },
    {
     "name": "stdout",
     "output_type": "stream",
     "text": [
      "Generating Data For FakeAlmaden Backend\n",
      "------------------------------------------\n",
      "Executing CUT circuit ID: 4\n",
      "Executing CUT circuit ID: 3\n",
      "Executing CUT circuit ID: 1\n",
      "Executing CUT circuit ID: 5\n",
      "Executing CUT circuit ID: 6\n",
      "Executing CUT circuit ID: 7\n"
     ]
    },
    {
     "name": "stderr",
     "output_type": "stream",
     "text": [
      "\r",
      "  4%|███▍                                                                            | 1/23 [09:43<3:34:04, 583.82s/it]"
     ]
    },
    {
     "name": "stdout",
     "output_type": "stream",
     "text": [
      "Generating Data For FakeBoeblingen Backend\n",
      "------------------------------------------\n",
      "Executing CUT circuit ID: 4\n",
      "Executing CUT circuit ID: 3\n",
      "Executing CUT circuit ID: 1\n",
      "Executing CUT circuit ID: 5\n",
      "Executing CUT circuit ID: 6\n",
      "Executing CUT circuit ID: 7\n"
     ]
    },
    {
     "name": "stderr",
     "output_type": "stream",
     "text": [
      "\r",
      "  9%|██████▉                                                                         | 2/23 [19:27<3:24:15, 583.60s/it]"
     ]
    },
    {
     "name": "stdout",
     "output_type": "stream",
     "text": [
      "Generating Data For FakeBrooklyn Backend\n",
      "------------------------------------------\n",
      "Executing CUT circuit ID: 4\n",
      "Executing CUT circuit ID: 3\n",
      "Executing CUT circuit ID: 1\n",
      "Executing CUT circuit ID: 5\n",
      "Executing CUT circuit ID: 6\n",
      "Executing CUT circuit ID: 7\n"
     ]
    },
    {
     "name": "stderr",
     "output_type": "stream",
     "text": [
      "\r",
      " 13%|██████████▍                                                                     | 3/23 [29:14<3:15:01, 585.05s/it]"
     ]
    },
    {
     "name": "stdout",
     "output_type": "stream",
     "text": [
      "Generating Data For FakeCairo Backend\n",
      "------------------------------------------\n",
      "Executing CUT circuit ID: 4\n",
      "Executing CUT circuit ID: 3\n",
      "Executing CUT circuit ID: 1\n",
      "Executing CUT circuit ID: 5\n",
      "Executing CUT circuit ID: 6\n",
      "Executing CUT circuit ID: 7\n"
     ]
    },
    {
     "name": "stderr",
     "output_type": "stream",
     "text": [
      "\r",
      " 17%|█████████████▉                                                                  | 4/23 [38:58<3:05:12, 584.87s/it]"
     ]
    },
    {
     "name": "stdout",
     "output_type": "stream",
     "text": [
      "Generating Data For FakeCambridge Backend\n",
      "------------------------------------------\n",
      "Executing CUT circuit ID: 4\n",
      "Executing CUT circuit ID: 3\n",
      "Executing CUT circuit ID: 1\n",
      "Executing CUT circuit ID: 5\n",
      "Executing CUT circuit ID: 6\n",
      "Executing CUT circuit ID: 7\n"
     ]
    },
    {
     "name": "stderr",
     "output_type": "stream",
     "text": [
      "\r",
      " 22%|█████████████████▍                                                              | 5/23 [48:43<2:55:28, 584.89s/it]"
     ]
    },
    {
     "name": "stdout",
     "output_type": "stream",
     "text": [
      "Generating Data For FakeCambridgeAlternativeBasis Backend\n",
      "------------------------------------------\n",
      "Executing CUT circuit ID: 4\n",
      "Executing CUT circuit ID: 3\n",
      "Executing CUT circuit ID: 1\n",
      "Executing CUT circuit ID: 5\n",
      "Executing CUT circuit ID: 6\n",
      "Executing CUT circuit ID: 7\n"
     ]
    },
    {
     "name": "stderr",
     "output_type": "stream",
     "text": [
      "\r",
      " 26%|████████████████████▊                                                           | 6/23 [58:27<2:45:39, 584.67s/it]"
     ]
    },
    {
     "name": "stdout",
     "output_type": "stream",
     "text": [
      "Generating Data For FakeCasablanca Backend\n",
      "------------------------------------------\n",
      "Executing CUT circuit ID: 4\n",
      "Executing CUT circuit ID: 3\n",
      "Executing CUT circuit ID: 1\n",
      "Executing CUT circuit ID: 5\n",
      "Executing CUT circuit ID: 6\n",
      "Executing CUT circuit ID: 7\n"
     ]
    },
    {
     "name": "stderr",
     "output_type": "stream",
     "text": [
      "\r",
      " 30%|███████████████████████▋                                                      | 7/23 [1:08:10<2:35:43, 583.97s/it]"
     ]
    },
    {
     "name": "stdout",
     "output_type": "stream",
     "text": [
      "Generating Data For FakeGuadalupe Backend\n",
      "------------------------------------------\n",
      "Executing CUT circuit ID: 4\n",
      "Executing CUT circuit ID: 3\n",
      "Executing CUT circuit ID: 1\n",
      "Executing CUT circuit ID: 5\n",
      "Executing CUT circuit ID: 6\n",
      "Executing CUT circuit ID: 7\n"
     ]
    },
    {
     "name": "stderr",
     "output_type": "stream",
     "text": [
      "\r",
      " 35%|███████████████████████████▏                                                  | 8/23 [1:17:53<2:25:56, 583.74s/it]"
     ]
    },
    {
     "name": "stdout",
     "output_type": "stream",
     "text": [
      "Generating Data For FakeHanoi Backend\n",
      "------------------------------------------\n",
      "Executing CUT circuit ID: 4\n",
      "Executing CUT circuit ID: 3\n",
      "Executing CUT circuit ID: 1\n",
      "Executing CUT circuit ID: 5\n",
      "Executing CUT circuit ID: 6\n",
      "Executing CUT circuit ID: 7\n"
     ]
    },
    {
     "name": "stderr",
     "output_type": "stream",
     "text": [
      "\r",
      " 39%|██████████████████████████████▌                                               | 9/23 [1:27:37<2:16:15, 583.94s/it]"
     ]
    },
    {
     "name": "stdout",
     "output_type": "stream",
     "text": [
      "Generating Data For FakeJakarta Backend\n",
      "------------------------------------------\n",
      "Executing CUT circuit ID: 4\n",
      "Executing CUT circuit ID: 3\n",
      "Executing CUT circuit ID: 1\n",
      "Executing CUT circuit ID: 5\n",
      "Executing CUT circuit ID: 6\n",
      "Executing CUT circuit ID: 7\n"
     ]
    },
    {
     "name": "stderr",
     "output_type": "stream",
     "text": [
      "\r",
      " 43%|█████████████████████████████████▍                                           | 10/23 [1:37:20<2:06:25, 583.50s/it]"
     ]
    },
    {
     "name": "stdout",
     "output_type": "stream",
     "text": [
      "Generating Data For FakeJohannesburg Backend\n",
      "------------------------------------------\n",
      "Executing CUT circuit ID: 4\n",
      "Executing CUT circuit ID: 3\n",
      "Executing CUT circuit ID: 1\n",
      "Executing CUT circuit ID: 5\n",
      "Executing CUT circuit ID: 6\n",
      "Executing CUT circuit ID: 7\n"
     ]
    },
    {
     "name": "stderr",
     "output_type": "stream",
     "text": [
      "\r",
      " 48%|████████████████████████████████████▊                                        | 11/23 [1:47:03<1:56:40, 583.39s/it]"
     ]
    },
    {
     "name": "stdout",
     "output_type": "stream",
     "text": [
      "Generating Data For FakeKolkata Backend\n",
      "------------------------------------------\n",
      "Executing CUT circuit ID: 4\n",
      "Executing CUT circuit ID: 3\n",
      "Executing CUT circuit ID: 1\n",
      "Executing CUT circuit ID: 5\n",
      "Executing CUT circuit ID: 6\n",
      "Executing CUT circuit ID: 7\n"
     ]
    },
    {
     "name": "stderr",
     "output_type": "stream",
     "text": [
      "\r",
      " 52%|████████████████████████████████████████▏                                    | 12/23 [1:56:47<1:47:00, 583.68s/it]"
     ]
    },
    {
     "name": "stdout",
     "output_type": "stream",
     "text": [
      "Generating Data For FakeLagos Backend\n",
      "------------------------------------------\n",
      "Executing CUT circuit ID: 4\n",
      "Executing CUT circuit ID: 3\n",
      "Executing CUT circuit ID: 1\n",
      "Executing CUT circuit ID: 5\n",
      "Executing CUT circuit ID: 6\n",
      "Executing CUT circuit ID: 7\n"
     ]
    },
    {
     "name": "stderr",
     "output_type": "stream",
     "text": [
      "\r",
      " 57%|███████████████████████████████████████████▌                                 | 13/23 [2:06:30<1:37:13, 583.36s/it]"
     ]
    },
    {
     "name": "stdout",
     "output_type": "stream",
     "text": [
      "Generating Data For FakeManhattan Backend\n",
      "------------------------------------------\n",
      "Executing CUT circuit ID: 4\n",
      "Executing CUT circuit ID: 3\n",
      "Executing CUT circuit ID: 1\n",
      "Executing CUT circuit ID: 5\n",
      "Executing CUT circuit ID: 6\n",
      "Executing CUT circuit ID: 7\n"
     ]
    },
    {
     "name": "stderr",
     "output_type": "stream",
     "text": [
      "\r",
      " 61%|██████████████████████████████████████████████▊                              | 14/23 [2:16:16<1:27:38, 584.23s/it]"
     ]
    },
    {
     "name": "stdout",
     "output_type": "stream",
     "text": [
      "Generating Data For FakeMontreal Backend\n",
      "------------------------------------------\n",
      "Executing CUT circuit ID: 4\n",
      "Executing CUT circuit ID: 3\n",
      "Executing CUT circuit ID: 1\n",
      "Executing CUT circuit ID: 5\n",
      "Executing CUT circuit ID: 6\n",
      "Executing CUT circuit ID: 7\n"
     ]
    },
    {
     "name": "stderr",
     "output_type": "stream",
     "text": [
      "\r",
      " 65%|██████████████████████████████████████████████████▏                          | 15/23 [2:26:00<1:17:53, 584.16s/it]"
     ]
    },
    {
     "name": "stdout",
     "output_type": "stream",
     "text": [
      "Generating Data For FakeMumbai Backend\n",
      "------------------------------------------\n",
      "Executing CUT circuit ID: 4\n",
      "Executing CUT circuit ID: 3\n",
      "Executing CUT circuit ID: 1\n",
      "Executing CUT circuit ID: 5\n",
      "Executing CUT circuit ID: 6\n",
      "Executing CUT circuit ID: 7\n"
     ]
    },
    {
     "name": "stderr",
     "output_type": "stream",
     "text": [
      "\r",
      " 70%|█████████████████████████████████████████████████████▌                       | 16/23 [2:35:44<1:08:08, 584.13s/it]"
     ]
    },
    {
     "name": "stdout",
     "output_type": "stream",
     "text": [
      "Generating Data For FakeNairobi Backend\n",
      "------------------------------------------\n",
      "Executing CUT circuit ID: 4\n",
      "Executing CUT circuit ID: 3\n",
      "Executing CUT circuit ID: 1\n",
      "Executing CUT circuit ID: 5\n",
      "Executing CUT circuit ID: 6\n",
      "Executing CUT circuit ID: 7\n"
     ]
    },
    {
     "name": "stderr",
     "output_type": "stream",
     "text": [
      "\r",
      " 74%|██████████████████████████████████████████████████████████▍                    | 17/23 [2:45:27<58:22, 583.69s/it]"
     ]
    },
    {
     "name": "stdout",
     "output_type": "stream",
     "text": [
      "Generating Data For FakeParis Backend\n",
      "------------------------------------------\n",
      "Executing CUT circuit ID: 4\n",
      "Executing CUT circuit ID: 3\n",
      "Executing CUT circuit ID: 1\n",
      "Executing CUT circuit ID: 5\n",
      "Executing CUT circuit ID: 6\n",
      "Executing CUT circuit ID: 7\n"
     ]
    },
    {
     "name": "stderr",
     "output_type": "stream",
     "text": [
      "\r",
      " 78%|█████████████████████████████████████████████████████████████▊                 | 18/23 [2:55:11<48:39, 583.86s/it]"
     ]
    },
    {
     "name": "stdout",
     "output_type": "stream",
     "text": [
      "Generating Data For FakeRochester Backend\n",
      "------------------------------------------\n",
      "Executing CUT circuit ID: 4\n",
      "Executing CUT circuit ID: 3\n",
      "Executing CUT circuit ID: 1\n",
      "Executing CUT circuit ID: 5\n",
      "Executing CUT circuit ID: 6\n",
      "Executing CUT circuit ID: 7\n"
     ]
    },
    {
     "name": "stderr",
     "output_type": "stream",
     "text": [
      "\r",
      " 83%|█████████████████████████████████████████████████████████████████▎             | 19/23 [3:04:57<38:57, 584.44s/it]"
     ]
    },
    {
     "name": "stdout",
     "output_type": "stream",
     "text": [
      "Generating Data For FakeSingapore Backend\n",
      "------------------------------------------\n",
      "Executing CUT circuit ID: 4\n",
      "Executing CUT circuit ID: 3\n",
      "Executing CUT circuit ID: 1\n",
      "Executing CUT circuit ID: 5\n",
      "Executing CUT circuit ID: 6\n",
      "Executing CUT circuit ID: 7\n"
     ]
    },
    {
     "name": "stderr",
     "output_type": "stream",
     "text": [
      "\r",
      " 87%|████████████████████████████████████████████████████████████████████▋          | 20/23 [3:14:41<29:12, 584.23s/it]"
     ]
    },
    {
     "name": "stdout",
     "output_type": "stream",
     "text": [
      "Generating Data For FakeSydney Backend\n",
      "------------------------------------------\n",
      "Executing CUT circuit ID: 4\n",
      "Executing CUT circuit ID: 3\n",
      "Executing CUT circuit ID: 1\n",
      "Executing CUT circuit ID: 5\n",
      "Executing CUT circuit ID: 6\n",
      "Executing CUT circuit ID: 7\n"
     ]
    },
    {
     "name": "stderr",
     "output_type": "stream",
     "text": [
      "\r",
      " 91%|████████████████████████████████████████████████████████████████████████▏      | 21/23 [3:24:25<19:28, 584.25s/it]"
     ]
    },
    {
     "name": "stdout",
     "output_type": "stream",
     "text": [
      "Generating Data For FakeToronto Backend\n",
      "------------------------------------------\n",
      "Executing CUT circuit ID: 4\n",
      "Executing CUT circuit ID: 3\n",
      "Executing CUT circuit ID: 1\n",
      "Executing CUT circuit ID: 5\n",
      "Executing CUT circuit ID: 6\n",
      "Executing CUT circuit ID: 7\n"
     ]
    },
    {
     "name": "stderr",
     "output_type": "stream",
     "text": [
      "\r",
      " 96%|███████████████████████████████████████████████████████████████████████████▌   | 22/23 [3:34:10<09:44, 584.31s/it]"
     ]
    },
    {
     "name": "stdout",
     "output_type": "stream",
     "text": [
      "Generating Data For FakeWashington Backend\n",
      "------------------------------------------\n",
      "Executing CUT circuit ID: 4\n",
      "Executing CUT circuit ID: 3\n",
      "Executing CUT circuit ID: 1\n",
      "Executing CUT circuit ID: 5\n",
      "Executing CUT circuit ID: 6\n",
      "Executing CUT circuit ID: 7\n"
     ]
    },
    {
     "name": "stderr",
     "output_type": "stream",
     "text": [
      "100%|███████████████████████████████████████████████████████████████████████████████| 23/23 [3:44:01<00:00, 584.43s/it]\n"
     ]
    }
   ],
   "source": [
    "# # Execute on Backends\n",
    "backend_factory = BackendFactory()\n",
    "backend = backend_factory.initialize_backend()\n",
    "backend_executor = {}\n",
    "for bk, qubit_size in tqdm(backends):\n",
    "    backend_executor[bk] = backend_factory.initialize_backend(bk)\n",
    "    \n",
    "for bk, qubit_size in tqdm(backends):\n",
    "\n",
    "    print(\"Generating Data For {} Backend\".format(bk))\n",
    "    print(\"------------------------------------------\")\n",
    "\n",
    "    for data,circuit,name in data_circuit_pairs:\n",
    "        noise_data = []\n",
    "        ideal_data = []\n",
    "        print(\"Executing CUT circuit ID: {}\".format(circuit.key_aurguments[\"ID\"]))\n",
    "\n",
    "        if circuit.key_aurguments[\"input_type\"]==1:\n",
    "            for inp in data:\n",
    "                ideal = convertNaQp2QuCAT_notation(circuit.get_result(backend,inp))\n",
    "                ndt = convertNaQp2QuCAT_notation(circuit.get_result(backend_executor[bk],inp))\n",
    "                Noise = [ndt for sd in range(10)]\n",
    "\n",
    "                rep_noise = defaultdict(lambda:{\"x\":[],\"y\":[]})\n",
    "                states = list(Noise[0].keys())\n",
    "                for state in states:\n",
    "                    for reps in Noise:\n",
    "                        if state in reps.keys():\n",
    "                            rep_noise[state][\"x\"].append([reps[state],0])\n",
    "                        else:\n",
    "                            rep_noise[state][\"x\"].append([0,0])\n",
    "                    if state in ideal.keys():\n",
    "                        rep_noise[state][\"y\"].append([ideal[state],0])\n",
    "                    else:\n",
    "                        rep_noise[state][\"y\"].append([0,0])\n",
    "\n",
    "                Noise = {}\n",
    "                for key in rep_noise.keys():\n",
    "                    Noise[key] = rep_noise[key]\n",
    "                \n",
    "                \n",
    "                noise_data.append({\"{}\".format(inp):Noise})\n",
    "\n",
    "        elif circuit.key_aurguments[\"input_type\"]==2:\n",
    "            pairs = [[x,y] for y in data for x in data]\n",
    "            for inp in pairs:\n",
    "                ideal = convertNaQp2QuCAT_notation(circuit.get_result(backend,inp))\n",
    "                ndt = convertNaQp2QuCAT_notation(circuit.get_result(backend_executor[bk],inp))\n",
    "                Noise = [ndt for sd in range(10)]\n",
    "                \n",
    "                rep_noise = defaultdict(lambda:{\"x\":[],\"y\":[]})\n",
    "                states = list(Noise[0].keys())\n",
    "                for state in states:\n",
    "                    for reps in Noise:\n",
    "                        if state in reps.keys():\n",
    "                            rep_noise[state][\"x\"].append([reps[state],0])\n",
    "                        else:\n",
    "                            rep_noise[state][\"x\"].append([0,0])\n",
    "                    if state in ideal.keys():\n",
    "                        rep_noise[state][\"y\"].append([ideal[state],0])\n",
    "                    else:\n",
    "                        rep_noise[state][\"y\"].append([0,0])\n",
    "                        \n",
    "\n",
    "                Noise = {}\n",
    "                for key in rep_noise.keys():\n",
    "                    Noise[key] = rep_noise[key]\n",
    "                    \n",
    "                noise_data.append({\"{}:{}\".format(inp[0],inp[1]):Noise})\n",
    "\n",
    "    # #-=-=-=-=-=-=-==-=-=-=-=-=-=-==-Saving json-=-=-=-=-=-=-=-=-=-=-=-=-=-=-=-=\n",
    "        file = open(\"evaluation_data/{}_{}.json\".format(bk,name),\"w\")\n",
    "        json.dump(noise_data,file)\n",
    "        file.close()\n",
    "        #break\n",
    "    #break"
   ]
  },
  {
   "cell_type": "code",
   "execution_count": null,
   "id": "00a6d52a",
   "metadata": {},
   "outputs": [],
   "source": []
  }
 ],
 "metadata": {
  "kernelspec": {
   "display_name": "Python [conda env:QOIN]",
   "language": "python",
   "name": "conda-env-QOIN-py"
  },
  "language_info": {
   "codemirror_mode": {
    "name": "ipython",
    "version": 3
   },
   "file_extension": ".py",
   "mimetype": "text/x-python",
   "name": "python",
   "nbconvert_exporter": "python",
   "pygments_lexer": "ipython3",
   "version": "3.9.18"
  }
 },
 "nbformat": 4,
 "nbformat_minor": 5
}
