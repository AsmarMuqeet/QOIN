{
 "cells": [
  {
   "cell_type": "code",
   "execution_count": 1,
   "id": "0b231775",
   "metadata": {},
   "outputs": [],
   "source": [
    "import json\n",
    "from sklearn.metrics import precision_recall_fscore_support\n",
    "\n",
    "\n",
    "def perf_measure(y_actual, y_hat):\n",
    "    TP = 0\n",
    "    FP = 0\n",
    "    TN = 0\n",
    "    FN = 0\n",
    "\n",
    "    for i in range(len(y_hat)): \n",
    "        if y_actual[i]==y_hat[i]==1:\n",
    "            TP += 1\n",
    "        if y_hat[i]==1 and y_actual[i]!=y_hat[i]:\n",
    "            FP += 1\n",
    "        if y_actual[i]==y_hat[i]==0:\n",
    "            TN += 1\n",
    "        if y_hat[i]==0 and y_actual[i]!=y_hat[i]:\n",
    "            FN += 1\n",
    "\n",
    "    return(TP, FP, TN, FN)"
   ]
  },
  {
   "cell_type": "markdown",
   "id": "d3214c64",
   "metadata": {},
   "source": [
    "# Experiment 1"
   ]
  },
  {
   "cell_type": "code",
   "execution_count": 2,
   "id": "88ad2cb7",
   "metadata": {},
   "outputs": [],
   "source": [
    "with open(\"./Qiskit/Experiment 1 Base/results/F1_noise.json\",\"r\") as file:\n",
    "    noisedata = json.load(file)\n",
    "    \n",
    "with open(\"./Cirq/Experiment 1 Base/results/F1_noise.json\",\"r\") as file:\n",
    "    data = json.load(file)\n",
    "    noisedata[\"ground\"].extend(data[\"ground\"])\n",
    "    noisedata[\"predicted\"].extend(data[\"predicted\"])\n",
    "    \n",
    "with open(\"./Rigetti/Experiment 1 Base/results/F1_noise.json\",\"r\") as file:\n",
    "    data = json.load(file)\n",
    "    noisedata[\"ground\"].extend(data[\"ground\"])\n",
    "    noisedata[\"predicted\"].extend(data[\"predicted\"])"
   ]
  },
  {
   "cell_type": "code",
   "execution_count": 3,
   "id": "1f30d5d4",
   "metadata": {},
   "outputs": [
    {
     "name": "stdout",
     "output_type": "stream",
     "text": [
      "Noise\n",
      "TP = 147, FP = 0, FN = 11689, P = 1.0, R = 0.012419736397431564, F1 = 0.024534757573228736\n"
     ]
    }
   ],
   "source": [
    "TP,FP,TN,FN = perf_measure(noisedata['ground'],noisedata['predicted'])\n",
    "precision,recall,f1,_ = precision_recall_fscore_support(noisedata['ground'],noisedata['predicted'],average=\"binary\")\n",
    "print(\"Noise\")\n",
    "print(\"TP = {}, FP = {}, FN = {}, P = {}, R = {}, F1 = {}\".format(TP,FP,FN,precision,recall,f1))"
   ]
  },
  {
   "cell_type": "code",
   "execution_count": 4,
   "id": "82a5d2de",
   "metadata": {},
   "outputs": [],
   "source": [
    "import os\n",
    "files = os.listdir(\"./Qiskit/Experiment 1 Base/results/f1/\")\n",
    "with open(f\"./Qiskit/Experiment 1 Base/results/f1/{files[0]}\",\"r\") as file:\n",
    "    filtereddata = json.load(file)\n",
    "    \n",
    "for file in files[1::]:\n",
    "    temp = open(f\"./Qiskit/Experiment 1 Base/results/f1/{file}\",\"r\")\n",
    "    tempdata = json.load(temp)\n",
    "    filtereddata[\"ground\"].extend(tempdata[\"ground\"])\n",
    "    filtereddata[\"predicted\"].extend(tempdata[\"predicted\"])\n",
    "    temp.close()\n",
    "    \n",
    "#filtereddata"
   ]
  },
  {
   "cell_type": "code",
   "execution_count": 5,
   "id": "2c16fa45",
   "metadata": {},
   "outputs": [],
   "source": [
    "with open(\"./Cirq/Experiment 1 Base/results/F1_filtered.json\",\"r\") as file:\n",
    "    data = json.load(file)\n",
    "    filtereddata[\"ground\"].extend(data[\"ground\"])\n",
    "    filtereddata[\"predicted\"].extend(data[\"predicted\"])\n",
    "    \n",
    "with open(\"./Rigetti/Experiment 1 Base/results/F1_filtered.json\",\"r\") as file:\n",
    "    data = json.load(file)\n",
    "    filtereddata[\"ground\"].extend(data[\"ground\"])\n",
    "    filtereddata[\"predicted\"].extend(data[\"predicted\"])"
   ]
  },
  {
   "cell_type": "code",
   "execution_count": 6,
   "id": "7a4639bf",
   "metadata": {},
   "outputs": [
    {
     "name": "stdout",
     "output_type": "stream",
     "text": [
      "Filter\n",
      "TP = 7846, FP = 305, FN = 3990, P = 0.962581278370752, R = 0.6628928692125718, F1 = 0.785110321709111\n"
     ]
    }
   ],
   "source": [
    "TP,FP,TN,FN = perf_measure(filtereddata['ground'],filtereddata['predicted'])\n",
    "precision,recall,f1,_ = precision_recall_fscore_support(filtereddata['ground'],filtereddata['predicted'],average=\"binary\")\n",
    "print(\"Filter\")\n",
    "print(\"TP = {}, FP = {}, FN = {}, P = {}, R = {}, F1 = {}\".format(TP,FP,FN,precision,recall,f1))"
   ]
  },
  {
   "cell_type": "markdown",
   "id": "4dbaeb03",
   "metadata": {},
   "source": [
    "# Experiment 2"
   ]
  },
  {
   "cell_type": "code",
   "execution_count": 7,
   "id": "df3f21e1",
   "metadata": {},
   "outputs": [],
   "source": [
    "with open(\"./Qiskit/Experiment 2 Base/results/F1_noise.json\",\"r\") as file:\n",
    "    noisedata = json.load(file)\n",
    "    \n",
    "with open(\"./Cirq/Experiment 2 Base/results/F1_noise.json\",\"r\") as file:\n",
    "    data = json.load(file)\n",
    "    noisedata[\"ground\"].extend(data[\"ground\"])\n",
    "    noisedata[\"predicted\"].extend(data[\"predicted\"])\n",
    "    \n",
    "with open(\"./Rigetti/Experiment 2 Base/results/F1_noise.json\",\"r\") as file:\n",
    "    data = json.load(file)\n",
    "    noisedata[\"ground\"].extend(data[\"ground\"])\n",
    "    noisedata[\"predicted\"].extend(data[\"predicted\"])"
   ]
  },
  {
   "cell_type": "code",
   "execution_count": 8,
   "id": "e97c4f62",
   "metadata": {},
   "outputs": [
    {
     "name": "stdout",
     "output_type": "stream",
     "text": [
      "Noise\n",
      "TP = 22266, FP = 0, FN = 553965, P = 1.0, R = 0.038640753447836025, F1 = 0.07440638800194486\n"
     ]
    }
   ],
   "source": [
    "TP,FP,TN,FN = perf_measure(noisedata['ground'],noisedata['predicted'])\n",
    "precision,recall,f1,_ = precision_recall_fscore_support(noisedata['ground'],noisedata['predicted'],average=\"binary\")\n",
    "print(\"Noise\")\n",
    "print(\"TP = {}, FP = {}, FN = {}, P = {}, R = {}, F1 = {}\".format(TP,FP,FN,precision,recall,f1))"
   ]
  },
  {
   "cell_type": "code",
   "execution_count": 9,
   "id": "a89d7c13",
   "metadata": {},
   "outputs": [],
   "source": [
    "import os\n",
    "files = os.listdir(\"./Qiskit/Experiment 2 Base/results/f1/\")\n",
    "with open(f\"./Qiskit/Experiment 2 Base/results/f1/{files[0]}\",\"r\") as file:\n",
    "    filtereddata = json.load(file)\n",
    "    \n",
    "for file in files[1::]:\n",
    "    temp = open(f\"./Qiskit/Experiment 2 Base/results/f1/{file}\",\"r\")\n",
    "    tempdata = json.load(temp)\n",
    "    filtereddata[\"ground\"].extend(tempdata[\"ground\"])\n",
    "    filtereddata[\"predicted\"].extend(tempdata[\"predicted\"])\n",
    "    temp.close()"
   ]
  },
  {
   "cell_type": "code",
   "execution_count": 10,
   "id": "a20a2613",
   "metadata": {},
   "outputs": [],
   "source": [
    "# with open(\"./Qiskit/Experiment 2 Base/results/F1_filtered.json\",\"r\") as file:\n",
    "#     filtereddata = json.load(file)\n",
    "    \n",
    "with open(\"./Cirq/Experiment 2 base/results/F1_filtered.json\",\"r\") as file:\n",
    "    data = json.load(file)\n",
    "    filtereddata[\"ground\"].extend(data[\"ground\"])\n",
    "    filtereddata[\"predicted\"].extend(data[\"predicted\"])\n",
    "    \n",
    "with open(\"./Rigetti/Experiment 2 base/results/F1_filtered.json\",\"r\") as file:\n",
    "    data = json.load(file)\n",
    "    filtereddata[\"ground\"].extend(data[\"ground\"])\n",
    "    filtereddata[\"predicted\"].extend(data[\"predicted\"])"
   ]
  },
  {
   "cell_type": "code",
   "execution_count": 11,
   "id": "0cb31b38",
   "metadata": {},
   "outputs": [
    {
     "name": "stdout",
     "output_type": "stream",
     "text": [
      "Filter\n",
      "TP = 382911, FP = 25604, FN = 193328, P = 0.9373242108612903, R = 0.6645003201796477, F1 = 0.7776784862006145\n"
     ]
    }
   ],
   "source": [
    "TP,FP,TN,FN = perf_measure(filtereddata['ground'],filtereddata['predicted'])\n",
    "precision,recall,f1,_ = precision_recall_fscore_support(filtereddata['ground'],filtereddata['predicted'],average=\"binary\")\n",
    "print(\"Filter\")\n",
    "print(\"TP = {}, FP = {}, FN = {}, P = {}, R = {}, F1 = {}\".format(TP,FP,FN,precision,recall,f1))"
   ]
  },
  {
   "cell_type": "code",
   "execution_count": null,
   "id": "ce7b3074",
   "metadata": {},
   "outputs": [],
   "source": []
  }
 ],
 "metadata": {
  "kernelspec": {
   "display_name": "Python [conda env:QOIN]",
   "language": "python",
   "name": "conda-env-QOIN-py"
  },
  "language_info": {
   "codemirror_mode": {
    "name": "ipython",
    "version": 3
   },
   "file_extension": ".py",
   "mimetype": "text/x-python",
   "name": "python",
   "nbconvert_exporter": "python",
   "pygments_lexer": "ipython3",
   "version": "3.9.18"
  }
 },
 "nbformat": 4,
 "nbformat_minor": 5
}
